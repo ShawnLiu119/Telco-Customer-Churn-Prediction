{
  "nbformat": 4,
  "nbformat_minor": 0,
  "metadata": {
    "colab": {
      "provenance": [],
      "collapsed_sections": []
    },
    "kernelspec": {
      "name": "python3",
      "display_name": "Python 3"
    },
    "language_info": {
      "name": "python"
    }
  },
  "cells": [
    {
      "cell_type": "code",
      "execution_count": 1,
      "metadata": {
        "colab": {
          "base_uri": "https://localhost:8080/"
        },
        "id": "r2fOWTjNE2va",
        "outputId": "88f9ce89-3a2a-4ed3-a5f8-b9783db4e147"
      },
      "outputs": [
        {
          "output_type": "stream",
          "name": "stdout",
          "text": [
            "Mounted at /content/mydrive/\n"
          ]
        }
      ],
      "source": [
        "#mount the drive\n",
        "\n",
        "from google.colab import drive\n",
        "drive.mount('/content/mydrive/')"
      ]
    },
    {
      "cell_type": "code",
      "source": [
        "%mkdir /content/mydrive/MyDrive/Datetime"
      ],
      "metadata": {
        "id": "_k3d5XWhRpjk"
      },
      "execution_count": 4,
      "outputs": []
    },
    {
      "cell_type": "code",
      "source": [
        "%cd /content/mydrive/MyDrive/Datetime"
      ],
      "metadata": {
        "colab": {
          "base_uri": "https://localhost:8080/"
        },
        "id": "X41XeqsGRyP7",
        "outputId": "550b1018-50c1-4ea9-ade2-190ba0d16e3b"
      },
      "execution_count": 5,
      "outputs": [
        {
          "output_type": "stream",
          "name": "stdout",
          "text": [
            "/content/mydrive/MyDrive/Datetime\n"
          ]
        }
      ]
    },
    {
      "cell_type": "code",
      "source": [
        "! git clone https://github.com/dalmiaujjwal/Data_Wrangling_Tips_Tricks.git"
      ],
      "metadata": {
        "colab": {
          "base_uri": "https://localhost:8080/"
        },
        "id": "8LLuwFJ4SKec",
        "outputId": "7c0b1ce8-a60c-4d0c-8615-b5e7a676f50e"
      },
      "execution_count": 6,
      "outputs": [
        {
          "output_type": "stream",
          "name": "stdout",
          "text": [
            "Cloning into 'Data_Wrangling_Tips_Tricks'...\n",
            "remote: Enumerating objects: 103, done.\u001b[K\n",
            "remote: Counting objects: 100% (103/103), done.\u001b[K\n",
            "remote: Compressing objects: 100% (82/82), done.\u001b[K\n",
            "remote: Total 103 (delta 34), reused 76 (delta 16), pack-reused 0\u001b[K\n",
            "Receiving objects: 100% (103/103), 78.21 KiB | 3.13 MiB/s, done.\n",
            "Resolving deltas: 100% (34/34), done.\n"
          ]
        }
      ]
    },
    {
      "cell_type": "markdown",
      "source": [
        "### pd.read_csv(parse_dates = ) to deal with datetime"
      ],
      "metadata": {
        "id": "HV3OAtSPY1hH"
      }
    },
    {
      "cell_type": "code",
      "source": [
        "path = '/content/mydrive/MyDrive/Datetime/Data_Wrangling_Tips_Tricks/Scenario_7'"
      ],
      "metadata": {
        "id": "nYv5ssK6SXB0"
      },
      "execution_count": 7,
      "outputs": []
    },
    {
      "cell_type": "code",
      "source": [
        "import pandas as pd"
      ],
      "metadata": {
        "id": "K2Y7pohFSm9P"
      },
      "execution_count": 18,
      "outputs": []
    },
    {
      "cell_type": "code",
      "source": [
        "df = pd.read_csv(path+'/Date_Dataset.csv', parse_dates = ['release_date']) ###The parameter expects us to pass all the date column names as a list. If the date values in these columns are correct, it will parse the columns as a date-time datatype.\n",
        "df.head()"
      ],
      "metadata": {
        "colab": {
          "base_uri": "https://localhost:8080/",
          "height": 206
        },
        "id": "M04-a6B0SsCd",
        "outputId": "c12e0e3f-eea0-4768-b140-0e49cf4774ec"
      },
      "execution_count": 19,
      "outputs": [
        {
          "output_type": "execute_result",
          "data": {
            "text/plain": [
              "  release_date  release_date_int release_date_text  year  month  day\n",
              "0          NaT          20190317        2019#17#03  2019      3   17\n",
              "1   2004-08-06          20040806        2004#06#08  2004      8    6\n",
              "2   2014-10-10          20141010        2014#10#10  2014     10   10\n",
              "3   2012-03-09          20120309        2012#09#03  2012      3    9\n",
              "4   2009-02-05          20090205        2009#05#02  2009      2    5"
            ],
            "text/html": [
              "\n",
              "  <div id=\"df-c33f37d4-60bb-48ab-98f7-7bde478e5f58\">\n",
              "    <div class=\"colab-df-container\">\n",
              "      <div>\n",
              "<style scoped>\n",
              "    .dataframe tbody tr th:only-of-type {\n",
              "        vertical-align: middle;\n",
              "    }\n",
              "\n",
              "    .dataframe tbody tr th {\n",
              "        vertical-align: top;\n",
              "    }\n",
              "\n",
              "    .dataframe thead th {\n",
              "        text-align: right;\n",
              "    }\n",
              "</style>\n",
              "<table border=\"1\" class=\"dataframe\">\n",
              "  <thead>\n",
              "    <tr style=\"text-align: right;\">\n",
              "      <th></th>\n",
              "      <th>release_date</th>\n",
              "      <th>release_date_int</th>\n",
              "      <th>release_date_text</th>\n",
              "      <th>year</th>\n",
              "      <th>month</th>\n",
              "      <th>day</th>\n",
              "    </tr>\n",
              "  </thead>\n",
              "  <tbody>\n",
              "    <tr>\n",
              "      <th>0</th>\n",
              "      <td>NaT</td>\n",
              "      <td>20190317</td>\n",
              "      <td>2019#17#03</td>\n",
              "      <td>2019</td>\n",
              "      <td>3</td>\n",
              "      <td>17</td>\n",
              "    </tr>\n",
              "    <tr>\n",
              "      <th>1</th>\n",
              "      <td>2004-08-06</td>\n",
              "      <td>20040806</td>\n",
              "      <td>2004#06#08</td>\n",
              "      <td>2004</td>\n",
              "      <td>8</td>\n",
              "      <td>6</td>\n",
              "    </tr>\n",
              "    <tr>\n",
              "      <th>2</th>\n",
              "      <td>2014-10-10</td>\n",
              "      <td>20141010</td>\n",
              "      <td>2014#10#10</td>\n",
              "      <td>2014</td>\n",
              "      <td>10</td>\n",
              "      <td>10</td>\n",
              "    </tr>\n",
              "    <tr>\n",
              "      <th>3</th>\n",
              "      <td>2012-03-09</td>\n",
              "      <td>20120309</td>\n",
              "      <td>2012#09#03</td>\n",
              "      <td>2012</td>\n",
              "      <td>3</td>\n",
              "      <td>9</td>\n",
              "    </tr>\n",
              "    <tr>\n",
              "      <th>4</th>\n",
              "      <td>2009-02-05</td>\n",
              "      <td>20090205</td>\n",
              "      <td>2009#05#02</td>\n",
              "      <td>2009</td>\n",
              "      <td>2</td>\n",
              "      <td>5</td>\n",
              "    </tr>\n",
              "  </tbody>\n",
              "</table>\n",
              "</div>\n",
              "      <button class=\"colab-df-convert\" onclick=\"convertToInteractive('df-c33f37d4-60bb-48ab-98f7-7bde478e5f58')\"\n",
              "              title=\"Convert this dataframe to an interactive table.\"\n",
              "              style=\"display:none;\">\n",
              "        \n",
              "  <svg xmlns=\"http://www.w3.org/2000/svg\" height=\"24px\"viewBox=\"0 0 24 24\"\n",
              "       width=\"24px\">\n",
              "    <path d=\"M0 0h24v24H0V0z\" fill=\"none\"/>\n",
              "    <path d=\"M18.56 5.44l.94 2.06.94-2.06 2.06-.94-2.06-.94-.94-2.06-.94 2.06-2.06.94zm-11 1L8.5 8.5l.94-2.06 2.06-.94-2.06-.94L8.5 2.5l-.94 2.06-2.06.94zm10 10l.94 2.06.94-2.06 2.06-.94-2.06-.94-.94-2.06-.94 2.06-2.06.94z\"/><path d=\"M17.41 7.96l-1.37-1.37c-.4-.4-.92-.59-1.43-.59-.52 0-1.04.2-1.43.59L10.3 9.45l-7.72 7.72c-.78.78-.78 2.05 0 2.83L4 21.41c.39.39.9.59 1.41.59.51 0 1.02-.2 1.41-.59l7.78-7.78 2.81-2.81c.8-.78.8-2.07 0-2.86zM5.41 20L4 18.59l7.72-7.72 1.47 1.35L5.41 20z\"/>\n",
              "  </svg>\n",
              "      </button>\n",
              "      \n",
              "  <style>\n",
              "    .colab-df-container {\n",
              "      display:flex;\n",
              "      flex-wrap:wrap;\n",
              "      gap: 12px;\n",
              "    }\n",
              "\n",
              "    .colab-df-convert {\n",
              "      background-color: #E8F0FE;\n",
              "      border: none;\n",
              "      border-radius: 50%;\n",
              "      cursor: pointer;\n",
              "      display: none;\n",
              "      fill: #1967D2;\n",
              "      height: 32px;\n",
              "      padding: 0 0 0 0;\n",
              "      width: 32px;\n",
              "    }\n",
              "\n",
              "    .colab-df-convert:hover {\n",
              "      background-color: #E2EBFA;\n",
              "      box-shadow: 0px 1px 2px rgba(60, 64, 67, 0.3), 0px 1px 3px 1px rgba(60, 64, 67, 0.15);\n",
              "      fill: #174EA6;\n",
              "    }\n",
              "\n",
              "    [theme=dark] .colab-df-convert {\n",
              "      background-color: #3B4455;\n",
              "      fill: #D2E3FC;\n",
              "    }\n",
              "\n",
              "    [theme=dark] .colab-df-convert:hover {\n",
              "      background-color: #434B5C;\n",
              "      box-shadow: 0px 1px 3px 1px rgba(0, 0, 0, 0.15);\n",
              "      filter: drop-shadow(0px 1px 2px rgba(0, 0, 0, 0.3));\n",
              "      fill: #FFFFFF;\n",
              "    }\n",
              "  </style>\n",
              "\n",
              "      <script>\n",
              "        const buttonEl =\n",
              "          document.querySelector('#df-c33f37d4-60bb-48ab-98f7-7bde478e5f58 button.colab-df-convert');\n",
              "        buttonEl.style.display =\n",
              "          google.colab.kernel.accessAllowed ? 'block' : 'none';\n",
              "\n",
              "        async function convertToInteractive(key) {\n",
              "          const element = document.querySelector('#df-c33f37d4-60bb-48ab-98f7-7bde478e5f58');\n",
              "          const dataTable =\n",
              "            await google.colab.kernel.invokeFunction('convertToInteractive',\n",
              "                                                     [key], {});\n",
              "          if (!dataTable) return;\n",
              "\n",
              "          const docLinkHtml = 'Like what you see? Visit the ' +\n",
              "            '<a target=\"_blank\" href=https://colab.research.google.com/notebooks/data_table.ipynb>data table notebook</a>'\n",
              "            + ' to learn more about interactive tables.';\n",
              "          element.innerHTML = '';\n",
              "          dataTable['output_type'] = 'display_data';\n",
              "          await google.colab.output.renderOutput(dataTable, element);\n",
              "          const docLink = document.createElement('div');\n",
              "          docLink.innerHTML = docLinkHtml;\n",
              "          element.appendChild(docLink);\n",
              "        }\n",
              "      </script>\n",
              "    </div>\n",
              "  </div>\n",
              "  "
            ]
          },
          "metadata": {},
          "execution_count": 19
        }
      ]
    },
    {
      "cell_type": "code",
      "source": [
        "df.info()"
      ],
      "metadata": {
        "colab": {
          "base_uri": "https://localhost:8080/"
        },
        "id": "7I9OGZZtS2T1",
        "outputId": "6623585d-89d5-4066-a4fb-a5d373325f8f"
      },
      "execution_count": 20,
      "outputs": [
        {
          "output_type": "stream",
          "name": "stdout",
          "text": [
            "<class 'pandas.core.frame.DataFrame'>\n",
            "RangeIndex: 3000 entries, 0 to 2999\n",
            "Data columns (total 6 columns):\n",
            " #   Column             Non-Null Count  Dtype         \n",
            "---  ------             --------------  -----         \n",
            " 0   release_date       2999 non-null   datetime64[ns]\n",
            " 1   release_date_int   3000 non-null   int64         \n",
            " 2   release_date_text  3000 non-null   object        \n",
            " 3   year               3000 non-null   int64         \n",
            " 4   month              3000 non-null   int64         \n",
            " 5   day                3000 non-null   int64         \n",
            "dtypes: datetime64[ns](1), int64(4), object(1)\n",
            "memory usage: 140.8+ KB\n"
          ]
        }
      ]
    },
    {
      "cell_type": "code",
      "source": [
        "df_1 = pd.read_csv(path+'/Date_Dataset.csv', parse_dates = ['release_date', 'release_date_int', [\"year\",\"month\", \"day\"]])\n",
        "#[] -> existing column\n",
        "# list of int or names. e.g. If [1, 2, 3] -> try parsing columns 1, 2, 3 each as a separate date column.\n",
        "# list of lists. e.g. If [[1, 3]] -> combine columns 1 and 3 and parse as a single date column."
      ],
      "metadata": {
        "id": "eqtqYnnCS_eF"
      },
      "execution_count": 24,
      "outputs": []
    },
    {
      "cell_type": "code",
      "source": [
        "df_1.info()"
      ],
      "metadata": {
        "colab": {
          "base_uri": "https://localhost:8080/"
        },
        "id": "sh9dYTGSXoLL",
        "outputId": "f3384297-6299-46ef-9b98-ea1db7dfc558"
      },
      "execution_count": 25,
      "outputs": [
        {
          "output_type": "stream",
          "name": "stdout",
          "text": [
            "<class 'pandas.core.frame.DataFrame'>\n",
            "RangeIndex: 3000 entries, 0 to 2999\n",
            "Data columns (total 4 columns):\n",
            " #   Column             Non-Null Count  Dtype         \n",
            "---  ------             --------------  -----         \n",
            " 0   year_month_day     3000 non-null   datetime64[ns]\n",
            " 1   release_date       2999 non-null   datetime64[ns]\n",
            " 2   release_date_int   3000 non-null   datetime64[ns]\n",
            " 3   release_date_text  3000 non-null   object        \n",
            "dtypes: datetime64[ns](3), object(1)\n",
            "memory usage: 93.9+ KB\n"
          ]
        }
      ]
    },
    {
      "cell_type": "code",
      "source": [
        "df_1.head()"
      ],
      "metadata": {
        "colab": {
          "base_uri": "https://localhost:8080/",
          "height": 206
        },
        "id": "7YKdzvFwX-VW",
        "outputId": "decb0ddd-0b81-49fb-fd0b-e3088e29c87a"
      },
      "execution_count": 26,
      "outputs": [
        {
          "output_type": "execute_result",
          "data": {
            "text/plain": [
              "  year_month_day release_date release_date_int release_date_text\n",
              "0     2019-03-17          NaT       2019-03-17        2019#17#03\n",
              "1     2004-08-06   2004-08-06       2004-08-06        2004#06#08\n",
              "2     2014-10-10   2014-10-10       2014-10-10        2014#10#10\n",
              "3     2012-03-09   2012-03-09       2012-03-09        2012#09#03\n",
              "4     2009-02-05   2009-02-05       2009-02-05        2009#05#02"
            ],
            "text/html": [
              "\n",
              "  <div id=\"df-43875032-f313-446e-9b48-4fb6faa3c9c0\">\n",
              "    <div class=\"colab-df-container\">\n",
              "      <div>\n",
              "<style scoped>\n",
              "    .dataframe tbody tr th:only-of-type {\n",
              "        vertical-align: middle;\n",
              "    }\n",
              "\n",
              "    .dataframe tbody tr th {\n",
              "        vertical-align: top;\n",
              "    }\n",
              "\n",
              "    .dataframe thead th {\n",
              "        text-align: right;\n",
              "    }\n",
              "</style>\n",
              "<table border=\"1\" class=\"dataframe\">\n",
              "  <thead>\n",
              "    <tr style=\"text-align: right;\">\n",
              "      <th></th>\n",
              "      <th>year_month_day</th>\n",
              "      <th>release_date</th>\n",
              "      <th>release_date_int</th>\n",
              "      <th>release_date_text</th>\n",
              "    </tr>\n",
              "  </thead>\n",
              "  <tbody>\n",
              "    <tr>\n",
              "      <th>0</th>\n",
              "      <td>2019-03-17</td>\n",
              "      <td>NaT</td>\n",
              "      <td>2019-03-17</td>\n",
              "      <td>2019#17#03</td>\n",
              "    </tr>\n",
              "    <tr>\n",
              "      <th>1</th>\n",
              "      <td>2004-08-06</td>\n",
              "      <td>2004-08-06</td>\n",
              "      <td>2004-08-06</td>\n",
              "      <td>2004#06#08</td>\n",
              "    </tr>\n",
              "    <tr>\n",
              "      <th>2</th>\n",
              "      <td>2014-10-10</td>\n",
              "      <td>2014-10-10</td>\n",
              "      <td>2014-10-10</td>\n",
              "      <td>2014#10#10</td>\n",
              "    </tr>\n",
              "    <tr>\n",
              "      <th>3</th>\n",
              "      <td>2012-03-09</td>\n",
              "      <td>2012-03-09</td>\n",
              "      <td>2012-03-09</td>\n",
              "      <td>2012#09#03</td>\n",
              "    </tr>\n",
              "    <tr>\n",
              "      <th>4</th>\n",
              "      <td>2009-02-05</td>\n",
              "      <td>2009-02-05</td>\n",
              "      <td>2009-02-05</td>\n",
              "      <td>2009#05#02</td>\n",
              "    </tr>\n",
              "  </tbody>\n",
              "</table>\n",
              "</div>\n",
              "      <button class=\"colab-df-convert\" onclick=\"convertToInteractive('df-43875032-f313-446e-9b48-4fb6faa3c9c0')\"\n",
              "              title=\"Convert this dataframe to an interactive table.\"\n",
              "              style=\"display:none;\">\n",
              "        \n",
              "  <svg xmlns=\"http://www.w3.org/2000/svg\" height=\"24px\"viewBox=\"0 0 24 24\"\n",
              "       width=\"24px\">\n",
              "    <path d=\"M0 0h24v24H0V0z\" fill=\"none\"/>\n",
              "    <path d=\"M18.56 5.44l.94 2.06.94-2.06 2.06-.94-2.06-.94-.94-2.06-.94 2.06-2.06.94zm-11 1L8.5 8.5l.94-2.06 2.06-.94-2.06-.94L8.5 2.5l-.94 2.06-2.06.94zm10 10l.94 2.06.94-2.06 2.06-.94-2.06-.94-.94-2.06-.94 2.06-2.06.94z\"/><path d=\"M17.41 7.96l-1.37-1.37c-.4-.4-.92-.59-1.43-.59-.52 0-1.04.2-1.43.59L10.3 9.45l-7.72 7.72c-.78.78-.78 2.05 0 2.83L4 21.41c.39.39.9.59 1.41.59.51 0 1.02-.2 1.41-.59l7.78-7.78 2.81-2.81c.8-.78.8-2.07 0-2.86zM5.41 20L4 18.59l7.72-7.72 1.47 1.35L5.41 20z\"/>\n",
              "  </svg>\n",
              "      </button>\n",
              "      \n",
              "  <style>\n",
              "    .colab-df-container {\n",
              "      display:flex;\n",
              "      flex-wrap:wrap;\n",
              "      gap: 12px;\n",
              "    }\n",
              "\n",
              "    .colab-df-convert {\n",
              "      background-color: #E8F0FE;\n",
              "      border: none;\n",
              "      border-radius: 50%;\n",
              "      cursor: pointer;\n",
              "      display: none;\n",
              "      fill: #1967D2;\n",
              "      height: 32px;\n",
              "      padding: 0 0 0 0;\n",
              "      width: 32px;\n",
              "    }\n",
              "\n",
              "    .colab-df-convert:hover {\n",
              "      background-color: #E2EBFA;\n",
              "      box-shadow: 0px 1px 2px rgba(60, 64, 67, 0.3), 0px 1px 3px 1px rgba(60, 64, 67, 0.15);\n",
              "      fill: #174EA6;\n",
              "    }\n",
              "\n",
              "    [theme=dark] .colab-df-convert {\n",
              "      background-color: #3B4455;\n",
              "      fill: #D2E3FC;\n",
              "    }\n",
              "\n",
              "    [theme=dark] .colab-df-convert:hover {\n",
              "      background-color: #434B5C;\n",
              "      box-shadow: 0px 1px 3px 1px rgba(0, 0, 0, 0.15);\n",
              "      filter: drop-shadow(0px 1px 2px rgba(0, 0, 0, 0.3));\n",
              "      fill: #FFFFFF;\n",
              "    }\n",
              "  </style>\n",
              "\n",
              "      <script>\n",
              "        const buttonEl =\n",
              "          document.querySelector('#df-43875032-f313-446e-9b48-4fb6faa3c9c0 button.colab-df-convert');\n",
              "        buttonEl.style.display =\n",
              "          google.colab.kernel.accessAllowed ? 'block' : 'none';\n",
              "\n",
              "        async function convertToInteractive(key) {\n",
              "          const element = document.querySelector('#df-43875032-f313-446e-9b48-4fb6faa3c9c0');\n",
              "          const dataTable =\n",
              "            await google.colab.kernel.invokeFunction('convertToInteractive',\n",
              "                                                     [key], {});\n",
              "          if (!dataTable) return;\n",
              "\n",
              "          const docLinkHtml = 'Like what you see? Visit the ' +\n",
              "            '<a target=\"_blank\" href=https://colab.research.google.com/notebooks/data_table.ipynb>data table notebook</a>'\n",
              "            + ' to learn more about interactive tables.';\n",
              "          element.innerHTML = '';\n",
              "          dataTable['output_type'] = 'display_data';\n",
              "          await google.colab.output.renderOutput(dataTable, element);\n",
              "          const docLink = document.createElement('div');\n",
              "          docLink.innerHTML = docLinkHtml;\n",
              "          element.appendChild(docLink);\n",
              "        }\n",
              "      </script>\n",
              "    </div>\n",
              "  </div>\n",
              "  "
            ]
          },
          "metadata": {},
          "execution_count": 26
        }
      ]
    },
    {
      "cell_type": "code",
      "source": [
        "df_2 = pd.read_csv(path+'/Date_Dataset.csv', parse_dates = {'combine_date': [\"year\",\"month\", \"day\"]})\n",
        "#{}: dictionary ---> {new name: [list of combined columns]} "
      ],
      "metadata": {
        "id": "C_p0ogiqYBq4"
      },
      "execution_count": 27,
      "outputs": []
    },
    {
      "cell_type": "code",
      "source": [
        "df_2.info()"
      ],
      "metadata": {
        "colab": {
          "base_uri": "https://localhost:8080/"
        },
        "id": "RVNRhfYKYkk7",
        "outputId": "49b08189-0c74-4648-c858-ec433bda2891"
      },
      "execution_count": 28,
      "outputs": [
        {
          "output_type": "stream",
          "name": "stdout",
          "text": [
            "<class 'pandas.core.frame.DataFrame'>\n",
            "RangeIndex: 3000 entries, 0 to 2999\n",
            "Data columns (total 4 columns):\n",
            " #   Column             Non-Null Count  Dtype         \n",
            "---  ------             --------------  -----         \n",
            " 0   combine_date       3000 non-null   datetime64[ns]\n",
            " 1   release_date       2999 non-null   object        \n",
            " 2   release_date_int   3000 non-null   int64         \n",
            " 3   release_date_text  3000 non-null   object        \n",
            "dtypes: datetime64[ns](1), int64(1), object(2)\n",
            "memory usage: 93.9+ KB\n"
          ]
        }
      ]
    },
    {
      "cell_type": "markdown",
      "source": [
        "### to_datetime()"
      ],
      "metadata": {
        "id": "BCFzSH4hZE_C"
      }
    },
    {
      "cell_type": "code",
      "source": [
        "df_3 = pd.read_csv(path +'/Date_Dataset.csv')\n",
        "df_3.info()"
      ],
      "metadata": {
        "colab": {
          "base_uri": "https://localhost:8080/"
        },
        "id": "8cPGwRyQZAG3",
        "outputId": "3b91be5d-198f-4769-f607-e9cb8807134b"
      },
      "execution_count": 30,
      "outputs": [
        {
          "output_type": "stream",
          "name": "stdout",
          "text": [
            "<class 'pandas.core.frame.DataFrame'>\n",
            "RangeIndex: 3000 entries, 0 to 2999\n",
            "Data columns (total 6 columns):\n",
            " #   Column             Non-Null Count  Dtype \n",
            "---  ------             --------------  ----- \n",
            " 0   release_date       2999 non-null   object\n",
            " 1   release_date_int   3000 non-null   int64 \n",
            " 2   release_date_text  3000 non-null   object\n",
            " 3   year               3000 non-null   int64 \n",
            " 4   month              3000 non-null   int64 \n",
            " 5   day                3000 non-null   int64 \n",
            "dtypes: int64(4), object(2)\n",
            "memory usage: 140.8+ KB\n"
          ]
        }
      ]
    },
    {
      "cell_type": "code",
      "source": [
        "df_3['release_date_convert'] = pd.to_datetime(df_3['release_date_text'], format =\"%Y#%d#%m\")  \n",
        "# datetime.strptime() class method\n",
        "#  %Y  Year with century as a decimal number. eg. 2013\n",
        "#  %y  Year without century as a zero-padded decimal number: e.g 03, 13, 09\n",
        "#  %m  Month as a zero-padded decimal number. e.g. 01, 02, …, 12\n",
        "#  %M  Minute as a zero-padded decimal number. e.g. 00, 01, …, 59\n",
        "#  %d  Day of the month as a zero-padded decimal number. e.g. 01, 02, …, 31\n",
        "#  %w %A %a  Weekday as a decimal number, where 0 is Sunday and 6 is Saturday./ locale full name / obbreviate name\n"
      ],
      "metadata": {
        "id": "i_UwYHgqZEUE"
      },
      "execution_count": 31,
      "outputs": []
    },
    {
      "cell_type": "code",
      "source": [
        "df_3['rel_date_int'] =  pd.to_datetime(df_3['release_date_int'], format =\"%Y%m%d\")  "
      ],
      "metadata": {
        "id": "OtJlSA0te7R8"
      },
      "execution_count": 47,
      "outputs": []
    },
    {
      "cell_type": "markdown",
      "source": [
        "### add or substract days (time interval) on top of datetime\n",
        "\n",
        "### using timedelta(days=5, hours=-5)\n",
        "### using DateOffset(days=5/years=2)"
      ],
      "metadata": {
        "id": "_9Z7NLAUgHMr"
      }
    },
    {
      "cell_type": "code",
      "source": [
        "from datetime import datetime, timedelta\n",
        "\n",
        "# df_3['weekago'] = pd.to_datetime(df_3['release_date_int'], format = \"%Y%m%d\") - 7  ## adding integer does not work\n",
        "\n",
        "#shift time a week ago\n",
        "df_3['weekago'] = pd.to_datetime(df_3['release_date_int'], format = \"%Y%m%d\") - timedelta(days=7)\n",
        "print(df_3[['weekago','rel_date_int']])"
      ],
      "metadata": {
        "colab": {
          "base_uri": "https://localhost:8080/"
        },
        "id": "WjruwzQNfiH_",
        "outputId": "a226f56c-3262-4aa8-e753-712102e43ef7"
      },
      "execution_count": 48,
      "outputs": [
        {
          "output_type": "stream",
          "name": "stdout",
          "text": [
            "        weekago rel_date_int\n",
            "0    2019-03-10   2019-03-17\n",
            "1    2004-07-30   2004-08-06\n",
            "2    2014-10-03   2014-10-10\n",
            "3    2012-03-02   2012-03-09\n",
            "4    2009-01-29   2009-02-05\n",
            "...         ...          ...\n",
            "2995 1994-04-15   1994-04-22\n",
            "2996 2013-03-21   2013-03-28\n",
            "2997 1996-10-04   1996-10-11\n",
            "2998 2004-01-09   2004-01-16\n",
            "2999 2011-09-15   2011-09-22\n",
            "\n",
            "[3000 rows x 2 columns]\n"
          ]
        }
      ]
    },
    {
      "cell_type": "code",
      "source": [
        "#shift time 2 years later\n",
        "df_3['weekago_1'] = pd.to_datetime(df_3['release_date_int'], format = \"%Y%m%d\") + timedelta(days=730)\n",
        "print(df_3[['weekago_1','rel_date_int']])"
      ],
      "metadata": {
        "colab": {
          "base_uri": "https://localhost:8080/"
        },
        "id": "MX8a0y8vhk6x",
        "outputId": "db8092d9-6f79-4b98-f8b0-e04c595284bb"
      },
      "execution_count": 49,
      "outputs": [
        {
          "output_type": "stream",
          "name": "stdout",
          "text": [
            "      weekago_1 rel_date_int\n",
            "0    2021-03-16   2019-03-17\n",
            "1    2006-08-06   2004-08-06\n",
            "2    2016-10-09   2014-10-10\n",
            "3    2014-03-09   2012-03-09\n",
            "4    2011-02-05   2009-02-05\n",
            "...         ...          ...\n",
            "2995 1996-04-21   1994-04-22\n",
            "2996 2015-03-28   2013-03-28\n",
            "2997 1998-10-11   1996-10-11\n",
            "2998 2006-01-15   2004-01-16\n",
            "2999 2013-09-21   2011-09-22\n",
            "\n",
            "[3000 rows x 2 columns]\n"
          ]
        }
      ]
    },
    {
      "cell_type": "code",
      "source": [
        "##another way to use it is to using DateOffset()\n",
        "\n",
        "df_3['2year_later'] = df_3['rel_date_int'] + pd.DateOffset(years=2)\n",
        "df_3['1month_ago'] = df_3['rel_date_int'] + pd.DateOffset(months=-1)\n",
        "df_3['10day_ago'] = df_3['rel_date_int'] + pd.DateOffset(days=-10)\n",
        "\n",
        "print(df_3[['rel_date_int', '2year_later', '1month_ago', '10day_ago']])"
      ],
      "metadata": {
        "colab": {
          "base_uri": "https://localhost:8080/"
        },
        "id": "DeakhNE_kU2-",
        "outputId": "b53d40f5-da9d-45a0-e1e9-bf1b5f893b0c"
      },
      "execution_count": 59,
      "outputs": [
        {
          "output_type": "stream",
          "name": "stdout",
          "text": [
            "     rel_date_int 2year_later 1month_ago  10day_ago\n",
            "0      2019-03-17  2021-03-17 2019-02-17 2019-03-07\n",
            "1      2004-08-06  2006-08-06 2004-07-06 2004-07-27\n",
            "2      2014-10-10  2016-10-10 2014-09-10 2014-09-30\n",
            "3      2012-03-09  2014-03-09 2012-02-09 2012-02-28\n",
            "4      2009-02-05  2011-02-05 2009-01-05 2009-01-26\n",
            "...           ...         ...        ...        ...\n",
            "2995   1994-04-22  1996-04-22 1994-03-22 1994-04-12\n",
            "2996   2013-03-28  2015-03-28 2013-02-28 2013-03-18\n",
            "2997   1996-10-11  1998-10-11 1996-09-11 1996-10-01\n",
            "2998   2004-01-16  2006-01-16 2003-12-16 2004-01-06\n",
            "2999   2011-09-22  2013-09-22 2011-08-22 2011-09-12\n",
            "\n",
            "[3000 rows x 4 columns]\n"
          ]
        }
      ]
    },
    {
      "cell_type": "markdown",
      "source": [
        "### apply(lambda x: datetime.strftime())"
      ],
      "metadata": {
        "id": "eO9qKfmbfTz5"
      }
    },
    {
      "cell_type": "code",
      "source": [
        "from datetime import datetime \n",
        "\n",
        "#The strftime() function is used to convert date and time objects to their string representation.\n",
        "# df_3['weekday'] = datetime.strftime(df_3['release_date_convert'], '%A') --->it cannot deal with column but one data point\n",
        "\n",
        "df_3['weekday'] = df_3['release_date_convert'].apply(lambda x: datetime.strftime(x, '%A')) #use apply function when manipulating for the whole column\n",
        "df_3['weekday'].value_counts()"
      ],
      "metadata": {
        "colab": {
          "base_uri": "https://localhost:8080/"
        },
        "id": "ONE4nIrQdBAB",
        "outputId": "a4a16a1b-5442-42d6-f58e-9ba473b41e83"
      },
      "execution_count": 38,
      "outputs": [
        {
          "output_type": "execute_result",
          "data": {
            "text/plain": [
              "Friday       1347\n",
              "Thursday      617\n",
              "Wednesday     449\n",
              "Tuesday       190\n",
              "Saturday      158\n",
              "Monday        124\n",
              "Sunday        115\n",
              "Name: weekday, dtype: int64"
            ]
          },
          "metadata": {},
          "execution_count": 38
        }
      ]
    },
    {
      "cell_type": "markdown",
      "source": [
        "### Compute the time difference from now on\n",
        "\n",
        "#### datetime.now() ---> current time\n"
      ],
      "metadata": {
        "id": "XqkTuezyhzJR"
      }
    },
    {
      "cell_type": "code",
      "source": [
        "df_3['time_diff'] = datetime.now() - df_3['rel_date_int']"
      ],
      "metadata": {
        "id": "YZY8K-Q0dGuh"
      },
      "execution_count": 50,
      "outputs": []
    },
    {
      "cell_type": "code",
      "source": [
        "df_3['time_diff']"
      ],
      "metadata": {
        "colab": {
          "base_uri": "https://localhost:8080/"
        },
        "id": "UIoZIErMiKFS",
        "outputId": "9c679554-abb8-4fc4-e856-69c26a64b087"
      },
      "execution_count": 51,
      "outputs": [
        {
          "output_type": "execute_result",
          "data": {
            "text/plain": [
              "0       1334 days 21:53:29.514078\n",
              "1       6670 days 21:53:29.514078\n",
              "2       2953 days 21:53:29.514078\n",
              "3       3898 days 21:53:29.514078\n",
              "4       5026 days 21:53:29.514078\n",
              "                  ...            \n",
              "2995   10429 days 21:53:29.514078\n",
              "2996    3514 days 21:53:29.514078\n",
              "2997    9526 days 21:53:29.514078\n",
              "2998    6873 days 21:53:29.514078\n",
              "2999    4067 days 21:53:29.514078\n",
              "Name: time_diff, Length: 3000, dtype: timedelta64[ns]"
            ]
          },
          "metadata": {},
          "execution_count": 51
        }
      ]
    },
    {
      "cell_type": "code",
      "source": [
        "df_3['time_diff'] =  df_3['rel_date_int'].apply(lambda x: datetime.now() - x)"
      ],
      "metadata": {
        "id": "mHEaK8CIiLmg"
      },
      "execution_count": 52,
      "outputs": []
    },
    {
      "cell_type": "code",
      "source": [
        "df_3['time_diff']"
      ],
      "metadata": {
        "colab": {
          "base_uri": "https://localhost:8080/"
        },
        "id": "zRjOgxB6jZ-j",
        "outputId": "717546d3-9f1d-430f-dd79-2f7846a2af8b"
      },
      "execution_count": 53,
      "outputs": [
        {
          "output_type": "execute_result",
          "data": {
            "text/plain": [
              "0       1334 days 21:58:56.795165\n",
              "1       6670 days 21:58:56.795310\n",
              "2       2953 days 21:58:56.795345\n",
              "3       3898 days 21:58:56.795365\n",
              "4       5026 days 21:58:56.795381\n",
              "                  ...            \n",
              "2995   10429 days 21:58:56.824751\n",
              "2996    3514 days 21:58:56.824760\n",
              "2997    9526 days 21:58:56.824772\n",
              "2998    6873 days 21:58:56.824782\n",
              "2999    4067 days 21:58:56.824791\n",
              "Name: time_diff, Length: 3000, dtype: timedelta64[ns]"
            ]
          },
          "metadata": {},
          "execution_count": 53
        }
      ]
    },
    {
      "cell_type": "markdown",
      "source": [
        "###Extracting Time component from datetime (year, day, month)\n",
        "\n",
        "using df[].dt.dayofweek/year/"
      ],
      "metadata": {
        "id": "aq3jdXBolslL"
      }
    },
    {
      "cell_type": "code",
      "source": [
        "df_3['yr']= df_3['rel_date_int'].dt.year\n",
        "df_3['dayofweek']= df_3['rel_date_int'].dt.dayofweek\n",
        "df_3['mth']= df_3['rel_date_int'].dt.month\n",
        "df_3['month_start']= df_3['rel_date_int'].dt.is_month_start\n",
        "\n",
        "#Date accessors— The date accessors (represented as dt) provide ready-to-use methods that one can use to extract specific components from a DateTime object."
      ],
      "metadata": {
        "id": "W1Q6llUWjbSj"
      },
      "execution_count": 62,
      "outputs": []
    },
    {
      "cell_type": "code",
      "source": [
        "print(df_3[['rel_date_int', 'yr', 'dayofweek', 'mth', 'month_start']])"
      ],
      "metadata": {
        "colab": {
          "base_uri": "https://localhost:8080/"
        },
        "id": "_6tO-726mAvb",
        "outputId": "17034ddb-6569-4ff4-c794-052abd8f4c89"
      },
      "execution_count": 63,
      "outputs": [
        {
          "output_type": "stream",
          "name": "stdout",
          "text": [
            "     rel_date_int    yr  dayofweek  mth  month_start\n",
            "0      2019-03-17  2019          6    3        False\n",
            "1      2004-08-06  2004          4    8        False\n",
            "2      2014-10-10  2014          4   10        False\n",
            "3      2012-03-09  2012          4    3        False\n",
            "4      2009-02-05  2009          3    2        False\n",
            "...           ...   ...        ...  ...          ...\n",
            "2995   1994-04-22  1994          4    4        False\n",
            "2996   2013-03-28  2013          3    3        False\n",
            "2997   1996-10-11  1996          4   10        False\n",
            "2998   2004-01-16  2004          4    1        False\n",
            "2999   2011-09-22  2011          3    9        False\n",
            "\n",
            "[3000 rows x 5 columns]\n"
          ]
        }
      ]
    },
    {
      "cell_type": "markdown",
      "source": [
        "### Group datetime by day / month / year / hour etc\n",
        "\n",
        "groupby(df[].dt.floor(''))\n",
        "groupby(df[].dt.to_period(''))"
      ],
      "metadata": {
        "id": "bw4C4P6zodYd"
      }
    },
    {
      "cell_type": "code",
      "source": [
        "df_g1 = df_3.groupby(df_3.rel_date_int.dt.to_period('Y')).size() ###group by year/ Month 'M'"
      ],
      "metadata": {
        "id": "vz6iLN9fm1og"
      },
      "execution_count": 75,
      "outputs": []
    },
    {
      "cell_type": "code",
      "source": [
        "df_g1"
      ],
      "metadata": {
        "colab": {
          "base_uri": "https://localhost:8080/"
        },
        "id": "ixdJuBWho8s-",
        "outputId": "ae14d2df-6bc2-4471-bd7c-7f90b6823685"
      },
      "execution_count": 76,
      "outputs": [
        {
          "output_type": "execute_result",
          "data": {
            "text/plain": [
              "rel_date_int\n",
              "1930    1\n",
              "1931    2\n",
              "1932    3\n",
              "1933    2\n",
              "1935    1\n",
              "       ..\n",
              "2024    1\n",
              "2025    2\n",
              "2026    1\n",
              "2027    2\n",
              "2028    3\n",
              "Freq: A-DEC, Length: 91, dtype: int64"
            ]
          },
          "metadata": {},
          "execution_count": 76
        }
      ]
    },
    {
      "cell_type": "code",
      "source": [
        "df_g2 = df_3.groupby(df_3.rel_date_int.dt.to_period('M')).size() ###group by year/ Month 'M'"
      ],
      "metadata": {
        "id": "fiWFRzampgsD"
      },
      "execution_count": 77,
      "outputs": []
    },
    {
      "cell_type": "code",
      "source": [
        "df_g2"
      ],
      "metadata": {
        "colab": {
          "base_uri": "https://localhost:8080/"
        },
        "id": "Ufh0m8WWpAVj",
        "outputId": "67d95ec3-bcab-4833-d7f0-e109f7d94ffc"
      },
      "execution_count": 78,
      "outputs": [
        {
          "output_type": "execute_result",
          "data": {
            "text/plain": [
              "rel_date_int\n",
              "1930-10    1\n",
              "1931-02    1\n",
              "1931-12    1\n",
              "1932-04    1\n",
              "1932-05    1\n",
              "          ..\n",
              "2027-09    1\n",
              "2027-10    1\n",
              "2028-04    1\n",
              "2028-06    1\n",
              "2028-11    1\n",
              "Freq: M, Length: 638, dtype: int64"
            ]
          },
          "metadata": {},
          "execution_count": 78
        }
      ]
    },
    {
      "cell_type": "code",
      "source": [
        "df_g3 = df_3.groupby(df_3.rel_date_int.dt.floor('10Min')).size() ###group by year/ Month 'M'"
      ],
      "metadata": {
        "id": "VM5gTa8bqI4C"
      },
      "execution_count": 79,
      "outputs": []
    },
    {
      "cell_type": "code",
      "source": [
        "df_g3"
      ],
      "metadata": {
        "colab": {
          "base_uri": "https://localhost:8080/"
        },
        "id": "-ooCjyXUqV5a",
        "outputId": "26c4ed95-af7f-42bb-aed6-99144521251d"
      },
      "execution_count": 80,
      "outputs": [
        {
          "output_type": "execute_result",
          "data": {
            "text/plain": [
              "rel_date_int\n",
              "1930-10-28    1\n",
              "1931-02-12    1\n",
              "1931-12-26    1\n",
              "1932-04-09    1\n",
              "1932-05-25    1\n",
              "             ..\n",
              "2027-09-23    1\n",
              "2027-10-31    1\n",
              "2028-04-07    1\n",
              "2028-06-16    1\n",
              "2028-11-24    1\n",
              "Length: 2399, dtype: int64"
            ]
          },
          "metadata": {},
          "execution_count": 80
        }
      ]
    },
    {
      "cell_type": "code",
      "source": [
        "##\n",
        "!git init"
      ],
      "metadata": {
        "colab": {
          "base_uri": "https://localhost:8080/"
        },
        "id": "9qfHTP4rqXMh",
        "outputId": "a07544da-501a-468d-e45f-584645c59161"
      },
      "execution_count": 81,
      "outputs": [
        {
          "output_type": "stream",
          "name": "stdout",
          "text": [
            "Initialized empty Git repository in /content/mydrive/MyDrive/Datetime/.git/\n"
          ]
        }
      ]
    },
    {
      "cell_type": "code",
      "source": [
        "!git config — global user.email “liux2225@umn.edu”\n",
        "!git config — global user.name “ShawnLiu119”"
      ],
      "metadata": {
        "colab": {
          "base_uri": "https://localhost:8080/"
        },
        "id": "HxtJvBnMsbLA",
        "outputId": "2a2908ab-154e-4a22-f55e-b600f6f445ec"
      },
      "execution_count": 82,
      "outputs": [
        {
          "output_type": "stream",
          "name": "stdout",
          "text": [
            "usage: git config [<options>]\n",
            "\n",
            "Config file location\n",
            "    --global              use global config file\n",
            "    --system              use system config file\n",
            "    --local               use repository config file\n",
            "    -f, --file <file>     use given config file\n",
            "    --blob <blob-id>      read config from given blob object\n",
            "\n",
            "Action\n",
            "    --get                 get value: name [value-regex]\n",
            "    --get-all             get all values: key [value-regex]\n",
            "    --get-regexp          get values for regexp: name-regex [value-regex]\n",
            "    --get-urlmatch        get value specific for the URL: section[.var] URL\n",
            "    --replace-all         replace all matching variables: name value [value_regex]\n",
            "    --add                 add a new variable: name value\n",
            "    --unset               remove a variable: name [value-regex]\n",
            "    --unset-all           remove all matches: name [value-regex]\n",
            "    --rename-section      rename section: old-name new-name\n",
            "    --remove-section      remove a section: name\n",
            "    -l, --list            list all\n",
            "    -e, --edit            open an editor\n",
            "    --get-color           find the color configured: slot [default]\n",
            "    --get-colorbool       find the color setting: slot [stdout-is-tty]\n",
            "\n",
            "Type\n",
            "    --bool                value is \"true\" or \"false\"\n",
            "    --int                 value is decimal number\n",
            "    --bool-or-int         value is --bool or --int\n",
            "    --path                value is a path (file or directory name)\n",
            "    --expiry-date         value is an expiry date\n",
            "\n",
            "Other\n",
            "    -z, --null            terminate values with NUL byte\n",
            "    --name-only           show variable names only\n",
            "    --includes            respect include directives on lookup\n",
            "    --show-origin         show origin of config (file, standard input, blob, command line)\n",
            "\n",
            "usage: git config [<options>]\n",
            "\n",
            "Config file location\n",
            "    --global              use global config file\n",
            "    --system              use system config file\n",
            "    --local               use repository config file\n",
            "    -f, --file <file>     use given config file\n",
            "    --blob <blob-id>      read config from given blob object\n",
            "\n",
            "Action\n",
            "    --get                 get value: name [value-regex]\n",
            "    --get-all             get all values: key [value-regex]\n",
            "    --get-regexp          get values for regexp: name-regex [value-regex]\n",
            "    --get-urlmatch        get value specific for the URL: section[.var] URL\n",
            "    --replace-all         replace all matching variables: name value [value_regex]\n",
            "    --add                 add a new variable: name value\n",
            "    --unset               remove a variable: name [value-regex]\n",
            "    --unset-all           remove all matches: name [value-regex]\n",
            "    --rename-section      rename section: old-name new-name\n",
            "    --remove-section      remove a section: name\n",
            "    -l, --list            list all\n",
            "    -e, --edit            open an editor\n",
            "    --get-color           find the color configured: slot [default]\n",
            "    --get-colorbool       find the color setting: slot [stdout-is-tty]\n",
            "\n",
            "Type\n",
            "    --bool                value is \"true\" or \"false\"\n",
            "    --int                 value is decimal number\n",
            "    --bool-or-int         value is --bool or --int\n",
            "    --path                value is a path (file or directory name)\n",
            "    --expiry-date         value is an expiry date\n",
            "\n",
            "Other\n",
            "    -z, --null            terminate values with NUL byte\n",
            "    --name-only           show variable names only\n",
            "    --includes            respect include directives on lookup\n",
            "    --show-origin         show origin of config (file, standard input, blob, command line)\n",
            "\n"
          ]
        }
      ]
    },
    {
      "cell_type": "code",
      "source": [
        "!git clone https://github.com/ShawnLiu119/Mis_datawrangling.git"
      ],
      "metadata": {
        "colab": {
          "base_uri": "https://localhost:8080/"
        },
        "id": "ZUbB_RpmtfYl",
        "outputId": "2fb86628-2442-4aef-9874-e79f407424b9"
      },
      "execution_count": 84,
      "outputs": [
        {
          "output_type": "stream",
          "name": "stdout",
          "text": [
            "Cloning into 'Mis_datawrangling'...\n",
            "warning: You appear to have cloned an empty repository.\n"
          ]
        }
      ]
    },
    {
      "cell_type": "code",
      "source": [
        "!git status"
      ],
      "metadata": {
        "colab": {
          "base_uri": "https://localhost:8080/"
        },
        "id": "YryDiMu8t0GL",
        "outputId": "520981c7-ed14-48fd-d582-3049cb18d2b7"
      },
      "execution_count": 86,
      "outputs": [
        {
          "output_type": "stream",
          "name": "stdout",
          "text": [
            "On branch master\n",
            "\n",
            "No commits yet\n",
            "\n",
            "Untracked files:\n",
            "  (use \"git add <file>...\" to include in what will be committed)\n",
            "\n",
            "\t\u001b[31mData_Wrangling_Tips_Tricks/\u001b[m\n",
            "\n",
            "nothing added to commit but untracked files present (use \"git add\" to track)\n"
          ]
        }
      ]
    },
    {
      "cell_type": "code",
      "source": [
        "!touch Datetime_Manipulation_Practice.ipynb"
      ],
      "metadata": {
        "id": "ZtcXPhwDuAkr"
      },
      "execution_count": 90,
      "outputs": []
    },
    {
      "cell_type": "code",
      "source": [],
      "metadata": {
        "id": "aKFEezGLu5wB"
      },
      "execution_count": null,
      "outputs": []
    },
    {
      "cell_type": "code",
      "source": [
        "!git add -A"
      ],
      "metadata": {
        "id": "5T5vsxG6sy8X"
      },
      "execution_count": 91,
      "outputs": []
    },
    {
      "cell_type": "code",
      "source": [
        "!git status"
      ],
      "metadata": {
        "colab": {
          "base_uri": "https://localhost:8080/"
        },
        "id": "1o1eGGJfuogs",
        "outputId": "9f899597-4bb5-4711-8caa-2ef9bcc9871c"
      },
      "execution_count": 92,
      "outputs": [
        {
          "output_type": "stream",
          "name": "stdout",
          "text": [
            "On branch master\n",
            "\n",
            "No commits yet\n",
            "\n",
            "Changes to be committed:\n",
            "  (use \"git rm --cached <file>...\" to unstage)\n",
            "\n",
            "\t\u001b[32mnew file:   Data_Wrangling_Tips_Tricks\u001b[m\n",
            "\t\u001b[32mnew file:   Datetime_Manipulation_Practice.ipynb\u001b[m\n",
            "\n"
          ]
        }
      ]
    },
    {
      "cell_type": "code",
      "source": [
        "!python Datetime_Manipulation_Practice.ipynb"
      ],
      "metadata": {
        "id": "JQQRkoitvPsq"
      },
      "execution_count": 93,
      "outputs": []
    },
    {
      "cell_type": "code",
      "source": [
        "!git commit -a -m \"first commit\""
      ],
      "metadata": {
        "colab": {
          "base_uri": "https://localhost:8080/"
        },
        "id": "u8zQjlHpvgGC",
        "outputId": "78f7557b-a0a2-4754-a263-ffc1d5ebb627"
      },
      "execution_count": 94,
      "outputs": [
        {
          "output_type": "stream",
          "name": "stdout",
          "text": [
            "\n",
            "*** Please tell me who you are.\n",
            "\n",
            "Run\n",
            "\n",
            "  git config --global user.email \"you@example.com\"\n",
            "  git config --global user.name \"Your Name\"\n",
            "\n",
            "to set your account's default identity.\n",
            "Omit --global to set the identity only in this repository.\n",
            "\n",
            "fatal: unable to auto-detect email address (got 'root@237f494f2152.(none)')\n"
          ]
        }
      ]
    },
    {
      "cell_type": "code",
      "source": [],
      "metadata": {
        "id": "wVfQ8LGQvsBy"
      },
      "execution_count": null,
      "outputs": []
    }
  ]
}