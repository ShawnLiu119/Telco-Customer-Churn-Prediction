{
  "nbformat": 4,
  "nbformat_minor": 0,
  "metadata": {
    "colab": {
      "provenance": [],
      "collapsed_sections": []
    },
    "kernelspec": {
      "name": "python3",
      "display_name": "Python 3"
    },
    "language_info": {
      "name": "python"
    }
  },
  "cells": [
    {
      "cell_type": "code",
      "execution_count": 2,
      "metadata": {
        "colab": {
          "base_uri": "https://localhost:8080/"
        },
        "id": "r2fOWTjNE2va",
        "outputId": "2c8b7a69-e207-4fe6-b1df-a9001ab82ff0"
      },
      "outputs": [
        {
          "output_type": "stream",
          "name": "stdout",
          "text": [
            "Mounted at /content/mydrive/\n"
          ]
        }
      ],
      "source": [
        "#mount the drive\n",
        "from google.colab import drive\n",
        "drive.mount('/content/mydrive/')"
      ]
    },
    {
      "cell_type": "code",
      "source": [
        "! git clone https://github.com/dalmiaujjwal/Data_Wrangling_Tips_Tricks.git"
      ],
      "metadata": {
        "colab": {
          "base_uri": "https://localhost:8080/"
        },
        "id": "8LLuwFJ4SKec",
        "outputId": "7c0b1ce8-a60c-4d0c-8615-b5e7a676f50e"
      },
      "execution_count": null,
      "outputs": [
        {
          "output_type": "stream",
          "name": "stdout",
          "text": [
            "Cloning into 'Data_Wrangling_Tips_Tricks'...\n",
            "remote: Enumerating objects: 103, done.\u001b[K\n",
            "remote: Counting objects: 100% (103/103), done.\u001b[K\n",
            "remote: Compressing objects: 100% (82/82), done.\u001b[K\n",
            "remote: Total 103 (delta 34), reused 76 (delta 16), pack-reused 0\u001b[K\n",
            "Receiving objects: 100% (103/103), 78.21 KiB | 3.13 MiB/s, done.\n",
            "Resolving deltas: 100% (34/34), done.\n"
          ]
        }
      ]
    },
    {
      "cell_type": "markdown",
      "source": [
        "### pd.read_csv(parse_dates = ) to deal with datetime"
      ],
      "metadata": {
        "id": "HV3OAtSPY1hH"
      }
    },
    {
      "cell_type": "code",
      "source": [
        "path = '/content/mydrive/MyDrive/Datetime/Data_Wrangling_Tips_Tricks/Scenario_7'"
      ],
      "metadata": {
        "id": "nYv5ssK6SXB0"
      },
      "execution_count": null,
      "outputs": []
    },
    {
      "cell_type": "code",
      "source": [
        "import pandas as pd"
      ],
      "metadata": {
        "id": "K2Y7pohFSm9P"
      },
      "execution_count": null,
      "outputs": []
    },
    {
      "cell_type": "code",
      "source": [],
      "metadata": {
        "id": "wVfQ8LGQvsBy"
      },
      "execution_count": null,
      "outputs": []
    }
  ]
}